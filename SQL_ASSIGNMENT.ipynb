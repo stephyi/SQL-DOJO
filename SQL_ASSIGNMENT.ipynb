{
  "nbformat": 4,
  "nbformat_minor": 0,
  "metadata": {
    "colab": {
      "name": "SQL_ASSIGNMENT",
      "provenance": [],
      "authorship_tag": "ABX9TyP65M/sZ61epxIcLUZ+UWh/",
      "include_colab_link": true
    },
    "kernelspec": {
      "name": "python3",
      "display_name": "Python 3"
    }
  },
  "cells": [
    {
      "cell_type": "markdown",
      "metadata": {
        "id": "view-in-github",
        "colab_type": "text"
      },
      "source": [
        "<a href=\"https://colab.research.google.com/github/stephyi/SQL-DOJO/blob/master/SQL_ASSIGNMENT.ipynb\" target=\"_parent\"><img src=\"https://colab.research.google.com/assets/colab-badge.svg\" alt=\"Open In Colab\"/></a>"
      ]
    },
    {
      "cell_type": "markdown",
      "metadata": {
        "id": "wzW6n8fWnsSF",
        "colab_type": "text"
      },
      "source": [
        "## Connecting to our database"
      ]
    },
    {
      "cell_type": "code",
      "metadata": {
        "id": "8n3WIZpkm88b",
        "colab_type": "code",
        "colab": {
          "base_uri": "https://localhost:8080/",
          "height": 52
        },
        "outputId": "477dbace-e7b2-45c4-925e-6478612670d3"
      },
      "source": [
        "%load_ext sql\n",
        "%sql sqlite://\n",
        "\n",
        "import pandas as pd"
      ],
      "execution_count": null,
      "outputs": [
        {
          "output_type": "stream",
          "text": [
            "The sql extension is already loaded. To reload it, use:\n",
            "  %reload_ext sql\n"
          ],
          "name": "stdout"
        }
      ]
    },
    {
      "cell_type": "markdown",
      "metadata": {
        "id": "y7z_ITJTn1FW",
        "colab_type": "text"
      },
      "source": [
        "## Loading our dataset"
      ]
    },
    {
      "cell_type": "code",
      "metadata": {
        "id": "srg0I-A6ngkQ",
        "colab_type": "code",
        "colab": {
          "base_uri": "https://localhost:8080/",
          "height": 142
        },
        "outputId": "905bcea7-aec9-46e6-c5f6-40b501f51225"
      },
      "source": [
        "accidents=pd.read_csv('traffic_accidents.csv')\n",
        "\n",
        "%sql DROP TABLE if EXISTS accidents;\n",
        "\n",
        "%sql PERSIST accidents;\n",
        "\n",
        "## To ensure that we exported the right data we check the vehicle_year column(should be in the \n",
        "## range of the last 15 years)\n",
        "%sql SELECT MIN(vehicle_year) FROM accidents LIMIT 5; "
      ],
      "execution_count": null,
      "outputs": [
        {
          "output_type": "stream",
          "text": [
            " * sqlite://\n",
            "Done.\n",
            " * sqlite://\n",
            " * sqlite://\n",
            "Done.\n"
          ],
          "name": "stdout"
        },
        {
          "output_type": "execute_result",
          "data": {
            "text/html": [
              "<table>\n",
              "    <tr>\n",
              "        <th>MIN(vehicle_year)</th>\n",
              "    </tr>\n",
              "    <tr>\n",
              "        <td>2006</td>\n",
              "    </tr>\n",
              "</table>"
            ],
            "text/plain": [
              "[(2006,)]"
            ]
          },
          "metadata": {
            "tags": []
          },
          "execution_count": 19
        }
      ]
    },
    {
      "cell_type": "markdown",
      "metadata": {
        "id": "7aCoMG07n8bg",
        "colab_type": "text"
      },
      "source": [
        "## Overview of our table"
      ]
    },
    {
      "cell_type": "markdown",
      "metadata": {
        "id": "0eUfJJL8oCba",
        "colab_type": "text"
      },
      "source": [
        "### Brief Description"
      ]
    },
    {
      "cell_type": "code",
      "metadata": {
        "id": "rDLTTIJynteQ",
        "colab_type": "code",
        "colab": {
          "base_uri": "https://localhost:8080/",
          "height": 330
        },
        "outputId": "8d825122-ee5c-47ed-e0cc-62411fcd98c3"
      },
      "source": [
        "%%sql \n",
        "SELECT * FROM accidents LIMIT 5;"
      ],
      "execution_count": null,
      "outputs": [
        {
          "output_type": "stream",
          "text": [
            " * sqlite://\n",
            "Done.\n"
          ],
          "name": "stdout"
        },
        {
          "output_type": "execute_result",
          "data": {
            "text/html": [
              "<table>\n",
              "    <tr>\n",
              "        <th>index</th>\n",
              "        <th>crash_unit_id</th>\n",
              "        <th>rd_no</th>\n",
              "        <th>crash_date</th>\n",
              "        <th>unit_no</th>\n",
              "        <th>unit_type</th>\n",
              "        <th>num_passengers</th>\n",
              "        <th>vehicle_id</th>\n",
              "        <th>cmrc_veh_i</th>\n",
              "        <th>make</th>\n",
              "        <th>model</th>\n",
              "        <th>lic_plate_state</th>\n",
              "        <th>vehicle_year</th>\n",
              "        <th>vehicle_defect</th>\n",
              "        <th>vehicle_type</th>\n",
              "        <th>vehicle_use</th>\n",
              "        <th>travel_direction</th>\n",
              "        <th>maneuver</th>\n",
              "        <th>towed_i</th>\n",
              "        <th>fire_i</th>\n",
              "        <th>occupant_cnt</th>\n",
              "        <th>exceed_speed_limit_i</th>\n",
              "        <th>towed_by</th>\n",
              "        <th>towed_to</th>\n",
              "        <th>area_00_i</th>\n",
              "        <th>area_01_i</th>\n",
              "        <th>area_02_i</th>\n",
              "        <th>area_03_i</th>\n",
              "        <th>area_04_i</th>\n",
              "        <th>area_05_i</th>\n",
              "        <th>area_06_i</th>\n",
              "        <th>area_07_i</th>\n",
              "        <th>area_08_i</th>\n",
              "        <th>area_09_i</th>\n",
              "        <th>area_10_i</th>\n",
              "        <th>area_11_i</th>\n",
              "        <th>area_12_i</th>\n",
              "        <th>area_99_i</th>\n",
              "        <th>first_contact_point</th>\n",
              "        <th>cmv_id</th>\n",
              "        <th>usdot_no</th>\n",
              "        <th>ccmc_no</th>\n",
              "        <th>ilcc_no</th>\n",
              "        <th>commercial_src</th>\n",
              "        <th>gvwr</th>\n",
              "        <th>carrier_name</th>\n",
              "        <th>carrier_state</th>\n",
              "        <th>carrier_city</th>\n",
              "        <th>hazmat_placards_i</th>\n",
              "        <th>hazmat_name</th>\n",
              "        <th>un_no</th>\n",
              "        <th>hazmat_present_i</th>\n",
              "        <th>hazmat_report_i</th>\n",
              "        <th>hazmat_report_no</th>\n",
              "        <th>mcs_report_i</th>\n",
              "        <th>mcs_report_no</th>\n",
              "        <th>hazmat_vio_cause_crash_i</th>\n",
              "        <th>mcs_vio_cause_crash_i</th>\n",
              "        <th>idot_permit_no</th>\n",
              "        <th>wide_load_i</th>\n",
              "        <th>trailer1_width</th>\n",
              "        <th>trailer2_width</th>\n",
              "        <th>trailer1_length</th>\n",
              "        <th>trailer2_length</th>\n",
              "        <th>total_vehicle_length</th>\n",
              "        <th>axle_cnt</th>\n",
              "        <th>vehicle_config</th>\n",
              "        <th>cargo_body_type</th>\n",
              "        <th>load_type</th>\n",
              "        <th>hazmat_out_of_service_i</th>\n",
              "        <th>mcs_out_of_service_i</th>\n",
              "        <th>hazmat_class</th>\n",
              "    </tr>\n",
              "    <tr>\n",
              "        <td>0</td>\n",
              "        <td>758369</td>\n",
              "        <td>JC469557</td>\n",
              "        <td>2019-10-12T01:57:00</td>\n",
              "        <td>1</td>\n",
              "        <td>DRIVER</td>\n",
              "        <td>None</td>\n",
              "        <td>720366</td>\n",
              "        <td>None</td>\n",
              "        <td>DODGE</td>\n",
              "        <td>NITRO</td>\n",
              "        <td>IL</td>\n",
              "        <td>2011</td>\n",
              "        <td>UNKNOWN</td>\n",
              "        <td>PASSENGER</td>\n",
              "        <td>UNKNOWN/NA</td>\n",
              "        <td>W</td>\n",
              "        <td>STRAIGHT AHEAD</td>\n",
              "        <td>None</td>\n",
              "        <td>None</td>\n",
              "        <td>1</td>\n",
              "        <td>None</td>\n",
              "        <td>None</td>\n",
              "        <td>None</td>\n",
              "        <td>None</td>\n",
              "        <td>None</td>\n",
              "        <td>None</td>\n",
              "        <td>None</td>\n",
              "        <td>None</td>\n",
              "        <td>None</td>\n",
              "        <td>None</td>\n",
              "        <td>None</td>\n",
              "        <td>None</td>\n",
              "        <td>None</td>\n",
              "        <td>None</td>\n",
              "        <td>None</td>\n",
              "        <td>1</td>\n",
              "        <td>None</td>\n",
              "        <td>OTHER</td>\n",
              "        <td>None</td>\n",
              "        <td>None</td>\n",
              "        <td>None</td>\n",
              "        <td>None</td>\n",
              "        <td>None</td>\n",
              "        <td>None</td>\n",
              "        <td>None</td>\n",
              "        <td>None</td>\n",
              "        <td>None</td>\n",
              "        <td>None</td>\n",
              "        <td>None</td>\n",
              "        <td>None</td>\n",
              "        <td>None</td>\n",
              "        <td>None</td>\n",
              "        <td>None</td>\n",
              "        <td>None</td>\n",
              "        <td>None</td>\n",
              "        <td>None</td>\n",
              "        <td>None</td>\n",
              "        <td>None</td>\n",
              "        <td>None</td>\n",
              "        <td>None</td>\n",
              "        <td>None</td>\n",
              "        <td>None</td>\n",
              "        <td>None</td>\n",
              "        <td>None</td>\n",
              "        <td>None</td>\n",
              "        <td>None</td>\n",
              "        <td>None</td>\n",
              "        <td>None</td>\n",
              "        <td>None</td>\n",
              "        <td>None</td>\n",
              "        <td>None</td>\n",
              "    </tr>\n",
              "    <tr>\n",
              "        <td>1</td>\n",
              "        <td>758356</td>\n",
              "        <td>JC469523</td>\n",
              "        <td>2019-10-12T00:30:00</td>\n",
              "        <td>1</td>\n",
              "        <td>DRIVER</td>\n",
              "        <td>None</td>\n",
              "        <td>720356</td>\n",
              "        <td>None</td>\n",
              "        <td>VOLVO</td>\n",
              "        <td>XC90</td>\n",
              "        <td>IL</td>\n",
              "        <td>2020</td>\n",
              "        <td>NONE</td>\n",
              "        <td>SPORT UTILITY VEHICLE (SUV)</td>\n",
              "        <td>PERSONAL</td>\n",
              "        <td>S</td>\n",
              "        <td>SLOW/STOP IN TRAFFIC</td>\n",
              "        <td>None</td>\n",
              "        <td>None</td>\n",
              "        <td>1</td>\n",
              "        <td>None</td>\n",
              "        <td>None</td>\n",
              "        <td>None</td>\n",
              "        <td>None</td>\n",
              "        <td>None</td>\n",
              "        <td>None</td>\n",
              "        <td>1</td>\n",
              "        <td>None</td>\n",
              "        <td>None</td>\n",
              "        <td>None</td>\n",
              "        <td>None</td>\n",
              "        <td>None</td>\n",
              "        <td>None</td>\n",
              "        <td>None</td>\n",
              "        <td>None</td>\n",
              "        <td>None</td>\n",
              "        <td>None</td>\n",
              "        <td>SIDE-RIGHT</td>\n",
              "        <td>None</td>\n",
              "        <td>None</td>\n",
              "        <td>None</td>\n",
              "        <td>None</td>\n",
              "        <td>None</td>\n",
              "        <td>None</td>\n",
              "        <td>None</td>\n",
              "        <td>None</td>\n",
              "        <td>None</td>\n",
              "        <td>None</td>\n",
              "        <td>None</td>\n",
              "        <td>None</td>\n",
              "        <td>None</td>\n",
              "        <td>None</td>\n",
              "        <td>None</td>\n",
              "        <td>None</td>\n",
              "        <td>None</td>\n",
              "        <td>None</td>\n",
              "        <td>None</td>\n",
              "        <td>None</td>\n",
              "        <td>None</td>\n",
              "        <td>None</td>\n",
              "        <td>None</td>\n",
              "        <td>None</td>\n",
              "        <td>None</td>\n",
              "        <td>None</td>\n",
              "        <td>None</td>\n",
              "        <td>None</td>\n",
              "        <td>None</td>\n",
              "        <td>None</td>\n",
              "        <td>None</td>\n",
              "        <td>None</td>\n",
              "        <td>None</td>\n",
              "    </tr>\n",
              "    <tr>\n",
              "        <td>2</td>\n",
              "        <td>758329</td>\n",
              "        <td>JC469467</td>\n",
              "        <td>2019-10-11T23:41:00</td>\n",
              "        <td>1</td>\n",
              "        <td>DRIVER</td>\n",
              "        <td>2.0</td>\n",
              "        <td>720325</td>\n",
              "        <td>None</td>\n",
              "        <td>TOYOTA MOTOR COMPANY, LTD.</td>\n",
              "        <td>UNKNOWN</td>\n",
              "        <td>IL</td>\n",
              "        <td>2015</td>\n",
              "        <td>NONE</td>\n",
              "        <td>PASSENGER</td>\n",
              "        <td>PERSONAL</td>\n",
              "        <td>E</td>\n",
              "        <td>PASSING/OVERTAKING</td>\n",
              "        <td>1</td>\n",
              "        <td>None</td>\n",
              "        <td>3</td>\n",
              "        <td>None</td>\n",
              "        <td>unknown</td>\n",
              "        <td>unknown</td>\n",
              "        <td>None</td>\n",
              "        <td>None</td>\n",
              "        <td>None</td>\n",
              "        <td>1</td>\n",
              "        <td>1</td>\n",
              "        <td>1</td>\n",
              "        <td>1</td>\n",
              "        <td>1</td>\n",
              "        <td>None</td>\n",
              "        <td>None</td>\n",
              "        <td>None</td>\n",
              "        <td>None</td>\n",
              "        <td>None</td>\n",
              "        <td>None</td>\n",
              "        <td>REAR</td>\n",
              "        <td>None</td>\n",
              "        <td>None</td>\n",
              "        <td>None</td>\n",
              "        <td>None</td>\n",
              "        <td>None</td>\n",
              "        <td>None</td>\n",
              "        <td>None</td>\n",
              "        <td>None</td>\n",
              "        <td>None</td>\n",
              "        <td>None</td>\n",
              "        <td>None</td>\n",
              "        <td>None</td>\n",
              "        <td>None</td>\n",
              "        <td>None</td>\n",
              "        <td>None</td>\n",
              "        <td>None</td>\n",
              "        <td>None</td>\n",
              "        <td>None</td>\n",
              "        <td>None</td>\n",
              "        <td>None</td>\n",
              "        <td>None</td>\n",
              "        <td>None</td>\n",
              "        <td>None</td>\n",
              "        <td>None</td>\n",
              "        <td>None</td>\n",
              "        <td>None</td>\n",
              "        <td>None</td>\n",
              "        <td>None</td>\n",
              "        <td>None</td>\n",
              "        <td>None</td>\n",
              "        <td>None</td>\n",
              "        <td>None</td>\n",
              "        <td>None</td>\n",
              "    </tr>\n",
              "    <tr>\n",
              "        <td>3</td>\n",
              "        <td>758330</td>\n",
              "        <td>JC469467</td>\n",
              "        <td>2019-10-11T23:41:00</td>\n",
              "        <td>2</td>\n",
              "        <td>DRIVER</td>\n",
              "        <td>None</td>\n",
              "        <td>720334</td>\n",
              "        <td>None</td>\n",
              "        <td>SUBARU</td>\n",
              "        <td>FORESTER</td>\n",
              "        <td>IL</td>\n",
              "        <td>2014</td>\n",
              "        <td>NONE</td>\n",
              "        <td>PASSENGER</td>\n",
              "        <td>PERSONAL</td>\n",
              "        <td>E</td>\n",
              "        <td>TURNING LEFT</td>\n",
              "        <td>None</td>\n",
              "        <td>None</td>\n",
              "        <td>1</td>\n",
              "        <td>None</td>\n",
              "        <td>None</td>\n",
              "        <td>None</td>\n",
              "        <td>None</td>\n",
              "        <td>1</td>\n",
              "        <td>1</td>\n",
              "        <td>None</td>\n",
              "        <td>None</td>\n",
              "        <td>None</td>\n",
              "        <td>None</td>\n",
              "        <td>None</td>\n",
              "        <td>None</td>\n",
              "        <td>None</td>\n",
              "        <td>None</td>\n",
              "        <td>None</td>\n",
              "        <td>1</td>\n",
              "        <td>None</td>\n",
              "        <td>FRONT</td>\n",
              "        <td>None</td>\n",
              "        <td>None</td>\n",
              "        <td>None</td>\n",
              "        <td>None</td>\n",
              "        <td>None</td>\n",
              "        <td>None</td>\n",
              "        <td>None</td>\n",
              "        <td>None</td>\n",
              "        <td>None</td>\n",
              "        <td>None</td>\n",
              "        <td>None</td>\n",
              "        <td>None</td>\n",
              "        <td>None</td>\n",
              "        <td>None</td>\n",
              "        <td>None</td>\n",
              "        <td>None</td>\n",
              "        <td>None</td>\n",
              "        <td>None</td>\n",
              "        <td>None</td>\n",
              "        <td>None</td>\n",
              "        <td>None</td>\n",
              "        <td>None</td>\n",
              "        <td>None</td>\n",
              "        <td>None</td>\n",
              "        <td>None</td>\n",
              "        <td>None</td>\n",
              "        <td>None</td>\n",
              "        <td>None</td>\n",
              "        <td>None</td>\n",
              "        <td>None</td>\n",
              "        <td>None</td>\n",
              "        <td>None</td>\n",
              "        <td>None</td>\n",
              "    </tr>\n",
              "    <tr>\n",
              "        <td>4</td>\n",
              "        <td>758333</td>\n",
              "        <td>JC469482</td>\n",
              "        <td>2019-10-11T23:20:00</td>\n",
              "        <td>1</td>\n",
              "        <td>DRIVER</td>\n",
              "        <td>None</td>\n",
              "        <td>720328</td>\n",
              "        <td>None</td>\n",
              "        <td>CHEVROLET</td>\n",
              "        <td>IMPALA</td>\n",
              "        <td>IL</td>\n",
              "        <td>2017</td>\n",
              "        <td>UNKNOWN</td>\n",
              "        <td>PASSENGER</td>\n",
              "        <td>PERSONAL</td>\n",
              "        <td>N</td>\n",
              "        <td>STRAIGHT AHEAD</td>\n",
              "        <td>None</td>\n",
              "        <td>None</td>\n",
              "        <td>1</td>\n",
              "        <td>None</td>\n",
              "        <td>None</td>\n",
              "        <td>None</td>\n",
              "        <td>None</td>\n",
              "        <td>None</td>\n",
              "        <td>None</td>\n",
              "        <td>None</td>\n",
              "        <td>None</td>\n",
              "        <td>None</td>\n",
              "        <td>None</td>\n",
              "        <td>None</td>\n",
              "        <td>None</td>\n",
              "        <td>None</td>\n",
              "        <td>None</td>\n",
              "        <td>None</td>\n",
              "        <td>None</td>\n",
              "        <td>None</td>\n",
              "        <td>UNKNOWN</td>\n",
              "        <td>None</td>\n",
              "        <td>None</td>\n",
              "        <td>None</td>\n",
              "        <td>None</td>\n",
              "        <td>None</td>\n",
              "        <td>None</td>\n",
              "        <td>None</td>\n",
              "        <td>None</td>\n",
              "        <td>None</td>\n",
              "        <td>None</td>\n",
              "        <td>None</td>\n",
              "        <td>None</td>\n",
              "        <td>None</td>\n",
              "        <td>None</td>\n",
              "        <td>None</td>\n",
              "        <td>None</td>\n",
              "        <td>None</td>\n",
              "        <td>None</td>\n",
              "        <td>None</td>\n",
              "        <td>None</td>\n",
              "        <td>None</td>\n",
              "        <td>None</td>\n",
              "        <td>None</td>\n",
              "        <td>None</td>\n",
              "        <td>None</td>\n",
              "        <td>None</td>\n",
              "        <td>None</td>\n",
              "        <td>None</td>\n",
              "        <td>None</td>\n",
              "        <td>None</td>\n",
              "        <td>None</td>\n",
              "        <td>None</td>\n",
              "        <td>None</td>\n",
              "    </tr>\n",
              "</table>"
            ],
            "text/plain": [
              "[(0, 758369, 'JC469557', '2019-10-12T01:57:00', 1, 'DRIVER', None, 720366, None, 'DODGE', 'NITRO', 'IL', 2011, 'UNKNOWN', 'PASSENGER', 'UNKNOWN/NA', 'W', 'STRAIGHT AHEAD', None, None, 1, None, None, None, None, None, None, None, None, None, None, None, None, None, None, None, 1, None, 'OTHER', None, None, None, None, None, None, None, None, None, None, None, None, None, None, None, None, None, None, None, None, None, None, None, None, None, None, None, None, None, None, None, None, None),\n",
              " (1, 758356, 'JC469523', '2019-10-12T00:30:00', 1, 'DRIVER', None, 720356, None, 'VOLVO', 'XC90', 'IL', 2020, 'NONE', 'SPORT UTILITY VEHICLE (SUV)', 'PERSONAL', 'S', 'SLOW/STOP IN TRAFFIC', None, None, 1, None, None, None, None, None, None, 1, None, None, None, None, None, None, None, None, None, None, 'SIDE-RIGHT', None, None, None, None, None, None, None, None, None, None, None, None, None, None, None, None, None, None, None, None, None, None, None, None, None, None, None, None, None, None, None, None, None),\n",
              " (2, 758329, 'JC469467', '2019-10-11T23:41:00', 1, 'DRIVER', 2.0, 720325, None, 'TOYOTA MOTOR COMPANY, LTD.', 'UNKNOWN', 'IL', 2015, 'NONE', 'PASSENGER', 'PERSONAL', 'E', 'PASSING/OVERTAKING', 1, None, 3, None, 'unknown', 'unknown', None, None, None, 1, 1, 1, 1, 1, None, None, None, None, None, None, 'REAR', None, None, None, None, None, None, None, None, None, None, None, None, None, None, None, None, None, None, None, None, None, None, None, None, None, None, None, None, None, None, None, None, None),\n",
              " (3, 758330, 'JC469467', '2019-10-11T23:41:00', 2, 'DRIVER', None, 720334, None, 'SUBARU', 'FORESTER', 'IL', 2014, 'NONE', 'PASSENGER', 'PERSONAL', 'E', 'TURNING LEFT', None, None, 1, None, None, None, None, 1, 1, None, None, None, None, None, None, None, None, None, 1, None, 'FRONT', None, None, None, None, None, None, None, None, None, None, None, None, None, None, None, None, None, None, None, None, None, None, None, None, None, None, None, None, None, None, None, None, None),\n",
              " (4, 758333, 'JC469482', '2019-10-11T23:20:00', 1, 'DRIVER', None, 720328, None, 'CHEVROLET', 'IMPALA', 'IL', 2017, 'UNKNOWN', 'PASSENGER', 'PERSONAL', 'N', 'STRAIGHT AHEAD', None, None, 1, None, None, None, None, None, None, None, None, None, None, None, None, None, None, None, None, None, 'UNKNOWN', None, None, None, None, None, None, None, None, None, None, None, None, None, None, None, None, None, None, None, None, None, None, None, None, None, None, None, None, None, None, None, None, None)]"
            ]
          },
          "metadata": {
            "tags": []
          },
          "execution_count": 4
        }
      ]
    },
    {
      "cell_type": "code",
      "metadata": {
        "id": "uHpiMcMlvYmI",
        "colab_type": "code",
        "colab": {
          "base_uri": "https://localhost:8080/",
          "height": 266
        },
        "outputId": "5878931b-1409-46a7-abc2-3c4be0d6aa4d"
      },
      "source": [
        "%sql SELECT DISTINCT num_passengers FROM accidents;\n"
      ],
      "execution_count": null,
      "outputs": [
        {
          "output_type": "stream",
          "text": [
            " * sqlite://\n",
            "Done.\n"
          ],
          "name": "stdout"
        },
        {
          "output_type": "execute_result",
          "data": {
            "text/html": [
              "<table>\n",
              "    <tr>\n",
              "        <th>num_passengers</th>\n",
              "    </tr>\n",
              "    <tr>\n",
              "        <td>None</td>\n",
              "    </tr>\n",
              "    <tr>\n",
              "        <td>2.0</td>\n",
              "    </tr>\n",
              "    <tr>\n",
              "        <td>1.0</td>\n",
              "    </tr>\n",
              "    <tr>\n",
              "        <td>5.0</td>\n",
              "    </tr>\n",
              "    <tr>\n",
              "        <td>4.0</td>\n",
              "    </tr>\n",
              "    <tr>\n",
              "        <td>3.0</td>\n",
              "    </tr>\n",
              "    <tr>\n",
              "        <td>10.0</td>\n",
              "    </tr>\n",
              "    <tr>\n",
              "        <td>7.0</td>\n",
              "    </tr>\n",
              "    <tr>\n",
              "        <td>9.0</td>\n",
              "    </tr>\n",
              "    <tr>\n",
              "        <td>8.0</td>\n",
              "    </tr>\n",
              "    <tr>\n",
              "        <td>11.0</td>\n",
              "    </tr>\n",
              "</table>"
            ],
            "text/plain": [
              "[(None,),\n",
              " (2.0,),\n",
              " (1.0,),\n",
              " (5.0,),\n",
              " (4.0,),\n",
              " (3.0,),\n",
              " (10.0,),\n",
              " (7.0,),\n",
              " (9.0,),\n",
              " (8.0,),\n",
              " (11.0,)]"
            ]
          },
          "metadata": {
            "tags": []
          },
          "execution_count": 51
        }
      ]
    },
    {
      "cell_type": "markdown",
      "metadata": {
        "id": "nlaQaWXdoITB",
        "colab_type": "text"
      },
      "source": [
        "## List of 5 makes that had the highest number of crashes"
      ]
    },
    {
      "cell_type": "code",
      "metadata": {
        "id": "LWvSEAj7sH2H",
        "colab_type": "code",
        "colab": {
          "base_uri": "https://localhost:8080/",
          "height": 160
        },
        "outputId": "a6087d18-cba4-4a1e-bc71-034123d3fa4c"
      },
      "source": [
        "%%sql\n",
        "SELECT count(*) AS Crashes,make\n",
        "FROM accidents\n",
        "GROUP BY make \n",
        "ORDER BY Crashes DESC\n",
        "LIMIT 5;"
      ],
      "execution_count": null,
      "outputs": [
        {
          "output_type": "stream",
          "text": [
            " * sqlite://\n",
            "Done.\n"
          ],
          "name": "stdout"
        },
        {
          "output_type": "execute_result",
          "data": {
            "text/html": [
              "<table>\n",
              "    <tr>\n",
              "        <th>Crashes</th>\n",
              "        <th>make</th>\n",
              "    </tr>\n",
              "    <tr>\n",
              "        <td>609</td>\n",
              "        <td>TOYOTA MOTOR COMPANY, LTD.</td>\n",
              "    </tr>\n",
              "    <tr>\n",
              "        <td>545</td>\n",
              "        <td>FORD</td>\n",
              "    </tr>\n",
              "    <tr>\n",
              "        <td>538</td>\n",
              "        <td>CHEVROLET</td>\n",
              "    </tr>\n",
              "    <tr>\n",
              "        <td>478</td>\n",
              "        <td>NISSAN</td>\n",
              "    </tr>\n",
              "    <tr>\n",
              "        <td>345</td>\n",
              "        <td>HONDA</td>\n",
              "    </tr>\n",
              "</table>"
            ],
            "text/plain": [
              "[(609, 'TOYOTA MOTOR COMPANY, LTD.'),\n",
              " (545, 'FORD'),\n",
              " (538, 'CHEVROLET'),\n",
              " (478, 'NISSAN'),\n",
              " (345, 'HONDA')]"
            ]
          },
          "metadata": {
            "tags": []
          },
          "execution_count": 24
        }
      ]
    },
    {
      "cell_type": "markdown",
      "metadata": {
        "id": "_uRC4x1joexl",
        "colab_type": "text"
      },
      "source": [
        "## Most personal vehicles were travelling towrds which direction"
      ]
    },
    {
      "cell_type": "code",
      "metadata": {
        "id": "F4C55u0Q9bXo",
        "colab_type": "code",
        "colab": {
          "base_uri": "https://localhost:8080/",
          "height": 231
        },
        "outputId": "f7475dcc-0327-4e66-b1ee-c825e343f0fa"
      },
      "source": [
        "%%sql\n",
        "SELECT COUNT(travel_direction) AS direction,make,vehicle_use,travel_direction\n",
        "FROM accidents\n",
        "WHERE vehicle_use='PERSONAL'\n",
        "GROUP BY travel_direction\n",
        "ORDER BY direction DESC;"
      ],
      "execution_count": null,
      "outputs": [
        {
          "output_type": "stream",
          "text": [
            " * sqlite://\n",
            "Done.\n"
          ],
          "name": "stdout"
        },
        {
          "output_type": "execute_result",
          "data": {
            "text/html": [
              "<table>\n",
              "    <tr>\n",
              "        <th>direction</th>\n",
              "        <th>make</th>\n",
              "        <th>vehicle_use</th>\n",
              "        <th>travel_direction</th>\n",
              "    </tr>\n",
              "    <tr>\n",
              "        <td>849</td>\n",
              "        <td>DODGE</td>\n",
              "        <td>PERSONAL</td>\n",
              "        <td>N</td>\n",
              "    </tr>\n",
              "    <tr>\n",
              "        <td>807</td>\n",
              "        <td>NISSAN</td>\n",
              "        <td>PERSONAL</td>\n",
              "        <td>S</td>\n",
              "    </tr>\n",
              "    <tr>\n",
              "        <td>765</td>\n",
              "        <td>HYUNDAI</td>\n",
              "        <td>PERSONAL</td>\n",
              "        <td>W</td>\n",
              "    </tr>\n",
              "    <tr>\n",
              "        <td>708</td>\n",
              "        <td>MERCEDES-BENZ</td>\n",
              "        <td>PERSONAL</td>\n",
              "        <td>E</td>\n",
              "    </tr>\n",
              "    <tr>\n",
              "        <td>116</td>\n",
              "        <td>INFINITI</td>\n",
              "        <td>PERSONAL</td>\n",
              "        <td>UNKNOWN</td>\n",
              "    </tr>\n",
              "    <tr>\n",
              "        <td>50</td>\n",
              "        <td>LEXUS</td>\n",
              "        <td>PERSONAL</td>\n",
              "        <td>SE</td>\n",
              "    </tr>\n",
              "    <tr>\n",
              "        <td>48</td>\n",
              "        <td>HONDA</td>\n",
              "        <td>PERSONAL</td>\n",
              "        <td>NW</td>\n",
              "    </tr>\n",
              "    <tr>\n",
              "        <td>30</td>\n",
              "        <td>NISSAN</td>\n",
              "        <td>PERSONAL</td>\n",
              "        <td>SW</td>\n",
              "    </tr>\n",
              "    <tr>\n",
              "        <td>23</td>\n",
              "        <td>CHEVROLET</td>\n",
              "        <td>PERSONAL</td>\n",
              "        <td>NE</td>\n",
              "    </tr>\n",
              "</table>"
            ],
            "text/plain": [
              "[(849, 'DODGE', 'PERSONAL', 'N'),\n",
              " (807, 'NISSAN', 'PERSONAL', 'S'),\n",
              " (765, 'HYUNDAI', 'PERSONAL', 'W'),\n",
              " (708, 'MERCEDES-BENZ', 'PERSONAL', 'E'),\n",
              " (116, 'INFINITI', 'PERSONAL', 'UNKNOWN'),\n",
              " (50, 'LEXUS', 'PERSONAL', 'SE'),\n",
              " (48, 'HONDA', 'PERSONAL', 'NW'),\n",
              " (30, 'NISSAN', 'PERSONAL', 'SW'),\n",
              " (23, 'CHEVROLET', 'PERSONAL', 'NE')]"
            ]
          },
          "metadata": {
            "tags": []
          },
          "execution_count": 44
        }
      ]
    },
    {
      "cell_type": "markdown",
      "metadata": {
        "id": "TrnqgdDqo6NR",
        "colab_type": "text"
      },
      "source": [
        "## Passengers involved in accident in personal cars"
      ]
    },
    {
      "cell_type": "code",
      "metadata": {
        "id": "W_7s6hINt2Z9",
        "colab_type": "code",
        "colab": {
          "base_uri": "https://localhost:8080/",
          "height": 88
        },
        "outputId": "fad0c0e9-d551-4ba6-b659-5226eed47b32"
      },
      "source": [
        "%%sql\n",
        "SELECT SUM(num_passengers)\n",
        "FROM accidents\n",
        "WHERE vehicle_use='PERSONAL';"
      ],
      "execution_count": null,
      "outputs": [
        {
          "output_type": "stream",
          "text": [
            " * sqlite://\n",
            "Done.\n"
          ],
          "name": "stdout"
        },
        {
          "output_type": "execute_result",
          "data": {
            "text/html": [
              "<table>\n",
              "    <tr>\n",
              "        <th>SUM(num_passengers)</th>\n",
              "    </tr>\n",
              "    <tr>\n",
              "        <td>827.0</td>\n",
              "    </tr>\n",
              "</table>"
            ],
            "text/plain": [
              "[(827.0,)]"
            ]
          },
          "metadata": {
            "tags": []
          },
          "execution_count": 48
        }
      ]
    },
    {
      "cell_type": "markdown",
      "metadata": {
        "id": "ieniFGENpyvS",
        "colab_type": "text"
      },
      "source": [
        "## Passengers involved in accident travelling in SUV"
      ]
    },
    {
      "cell_type": "code",
      "metadata": {
        "id": "8ZItDR-Avww5",
        "colab_type": "code",
        "colab": {
          "base_uri": "https://localhost:8080/",
          "height": 88
        },
        "outputId": "b1fedfcd-f584-46c5-91d4-e96718fa7621"
      },
      "source": [
        "%%sql\n",
        "SELECT SUM(num_passengers)\n",
        "FROM accidents\n",
        "WHERE vehicle_type='SPORT UTILITY VEHICLE (SUV)';"
      ],
      "execution_count": null,
      "outputs": [
        {
          "output_type": "stream",
          "text": [
            " * sqlite://\n",
            "Done.\n"
          ],
          "name": "stdout"
        },
        {
          "output_type": "execute_result",
          "data": {
            "text/html": [
              "<table>\n",
              "    <tr>\n",
              "        <th>SUM(num_passengers)</th>\n",
              "    </tr>\n",
              "    <tr>\n",
              "        <td>166.0</td>\n",
              "    </tr>\n",
              "</table>"
            ],
            "text/plain": [
              "[(166.0,)]"
            ]
          },
          "metadata": {
            "tags": []
          },
          "execution_count": 49
        }
      ]
    },
    {
      "cell_type": "markdown",
      "metadata": {
        "id": "ffAn11xPp71Q",
        "colab_type": "text"
      },
      "source": [
        "## Total number of Mercedez-Benz in accident while parked"
      ]
    },
    {
      "cell_type": "code",
      "metadata": {
        "id": "sMopGZAHwCZP",
        "colab_type": "code",
        "colab": {
          "base_uri": "https://localhost:8080/",
          "height": 88
        },
        "outputId": "56123033-77ec-4a1c-efba-bd907bf639c4"
      },
      "source": [
        "%%sql\n",
        "SELECT count(*)\n",
        "FROM accidents\n",
        "WHERE model='MERCEDES-BENZ' AND maneuver='PARKED';"
      ],
      "execution_count": null,
      "outputs": [
        {
          "output_type": "stream",
          "text": [
            " * sqlite://\n",
            "Done.\n"
          ],
          "name": "stdout"
        },
        {
          "output_type": "execute_result",
          "data": {
            "text/html": [
              "<table>\n",
              "    <tr>\n",
              "        <th>count(*)</th>\n",
              "    </tr>\n",
              "    <tr>\n",
              "        <td>1</td>\n",
              "    </tr>\n",
              "</table>"
            ],
            "text/plain": [
              "[(1,)]"
            ]
          },
          "metadata": {
            "tags": []
          },
          "execution_count": 33
        }
      ]
    },
    {
      "cell_type": "markdown",
      "metadata": {
        "id": "P1Oo3zPVqHLC",
        "colab_type": "text"
      },
      "source": [
        "## Total occupant count per vehicle count"
      ]
    },
    {
      "cell_type": "code",
      "metadata": {
        "id": "0h81JThow6sV",
        "colab_type": "code",
        "colab": {
          "base_uri": "https://localhost:8080/",
          "height": 355
        },
        "outputId": "780c3ec3-0ccf-4608-92c7-212acbf5c36e"
      },
      "source": [
        "%%sql\n",
        "SELECT SUM(num_passengers) AS Occupants,vehicle_type\n",
        "FROM accidents\n",
        "GROUP BY vehicle_type\n",
        "ORDER BY Occupants DESC;"
      ],
      "execution_count": null,
      "outputs": [
        {
          "output_type": "stream",
          "text": [
            " * sqlite://\n",
            "Done.\n"
          ],
          "name": "stdout"
        },
        {
          "output_type": "execute_result",
          "data": {
            "text/html": [
              "<table>\n",
              "    <tr>\n",
              "        <th>Occupants</th>\n",
              "        <th>vehicle_type</th>\n",
              "    </tr>\n",
              "    <tr>\n",
              "        <td>765.0</td>\n",
              "        <td>PASSENGER</td>\n",
              "    </tr>\n",
              "    <tr>\n",
              "        <td>166.0</td>\n",
              "        <td>SPORT UTILITY VEHICLE (SUV)</td>\n",
              "    </tr>\n",
              "    <tr>\n",
              "        <td>71.0</td>\n",
              "        <td>VAN/MINI-VAN</td>\n",
              "    </tr>\n",
              "    <tr>\n",
              "        <td>63.0</td>\n",
              "        <td>BUS OVER 15 PASS.</td>\n",
              "    </tr>\n",
              "    <tr>\n",
              "        <td>29.0</td>\n",
              "        <td>BUS UP TO 15 PASS.</td>\n",
              "    </tr>\n",
              "    <tr>\n",
              "        <td>24.0</td>\n",
              "        <td>UNKNOWN/NA</td>\n",
              "    </tr>\n",
              "    <tr>\n",
              "        <td>21.0</td>\n",
              "        <td>OTHER</td>\n",
              "    </tr>\n",
              "    <tr>\n",
              "        <td>15.0</td>\n",
              "        <td>PICKUP</td>\n",
              "    </tr>\n",
              "    <tr>\n",
              "        <td>13.0</td>\n",
              "        <td>TRUCK - SINGLE UNIT</td>\n",
              "    </tr>\n",
              "    <tr>\n",
              "        <td>4.0</td>\n",
              "        <td>SINGLE UNIT TRUCK WITH TRAILER</td>\n",
              "    </tr>\n",
              "    <tr>\n",
              "        <td>2.0</td>\n",
              "        <td>MOTORCYCLE (OVER 150CC)</td>\n",
              "    </tr>\n",
              "    <tr>\n",
              "        <td>2.0</td>\n",
              "        <td>OTHER VEHICLE WITH TRAILER</td>\n",
              "    </tr>\n",
              "    <tr>\n",
              "        <td>None</td>\n",
              "        <td>FARM EQUIPMENT</td>\n",
              "    </tr>\n",
              "    <tr>\n",
              "        <td>None</td>\n",
              "        <td>MOPED OR MOTORIZED BICYCLE</td>\n",
              "    </tr>\n",
              "    <tr>\n",
              "        <td>None</td>\n",
              "        <td>TRACTOR W/ SEMI-TRAILER</td>\n",
              "    </tr>\n",
              "    <tr>\n",
              "        <td>None</td>\n",
              "        <td>TRACTOR W/O SEMI-TRAILER</td>\n",
              "    </tr>\n",
              "</table>"
            ],
            "text/plain": [
              "[(765.0, 'PASSENGER'),\n",
              " (166.0, 'SPORT UTILITY VEHICLE (SUV)'),\n",
              " (71.0, 'VAN/MINI-VAN'),\n",
              " (63.0, 'BUS OVER 15 PASS.'),\n",
              " (29.0, 'BUS UP TO 15 PASS.'),\n",
              " (24.0, 'UNKNOWN/NA'),\n",
              " (21.0, 'OTHER'),\n",
              " (15.0, 'PICKUP'),\n",
              " (13.0, 'TRUCK - SINGLE UNIT'),\n",
              " (4.0, 'SINGLE UNIT TRUCK WITH TRAILER'),\n",
              " (2.0, 'MOTORCYCLE (OVER 150CC)'),\n",
              " (2.0, 'OTHER VEHICLE WITH TRAILER'),\n",
              " (None, 'FARM EQUIPMENT'),\n",
              " (None, 'MOPED OR MOTORIZED BICYCLE'),\n",
              " (None, 'TRACTOR W/ SEMI-TRAILER'),\n",
              " (None, 'TRACTOR W/O SEMI-TRAILER')]"
            ]
          },
          "metadata": {
            "tags": []
          },
          "execution_count": 50
        }
      ]
    },
    {
      "cell_type": "markdown",
      "metadata": {
        "id": "WFl3D2vHqONf",
        "colab_type": "text"
      },
      "source": [
        "## Number of passengers by travel direction "
      ]
    },
    {
      "cell_type": "code",
      "metadata": {
        "id": "vutBwx8bxIZx",
        "colab_type": "code",
        "colab": {
          "base_uri": "https://localhost:8080/",
          "height": 231
        },
        "outputId": "95fa84d1-abf6-45ff-a1d8-62e889862f1f"
      },
      "source": [
        "%%sql\n",
        "SELECT SUM(num_passengers) AS passengers,travel_direction\n",
        "FROM accidents\n",
        "GROUP BY travel_direction\n",
        "ORDER BY passengers DESC;"
      ],
      "execution_count": null,
      "outputs": [
        {
          "output_type": "stream",
          "text": [
            " * sqlite://\n",
            "Done.\n"
          ],
          "name": "stdout"
        },
        {
          "output_type": "execute_result",
          "data": {
            "text/html": [
              "<table>\n",
              "    <tr>\n",
              "        <th>passengers</th>\n",
              "        <th>travel_direction</th>\n",
              "    </tr>\n",
              "    <tr>\n",
              "        <td>285.0</td>\n",
              "        <td>W</td>\n",
              "    </tr>\n",
              "    <tr>\n",
              "        <td>280.0</td>\n",
              "        <td>N</td>\n",
              "    </tr>\n",
              "    <tr>\n",
              "        <td>274.0</td>\n",
              "        <td>S</td>\n",
              "    </tr>\n",
              "    <tr>\n",
              "        <td>272.0</td>\n",
              "        <td>E</td>\n",
              "    </tr>\n",
              "    <tr>\n",
              "        <td>21.0</td>\n",
              "        <td>SE</td>\n",
              "    </tr>\n",
              "    <tr>\n",
              "        <td>17.0</td>\n",
              "        <td>SW</td>\n",
              "    </tr>\n",
              "    <tr>\n",
              "        <td>10.0</td>\n",
              "        <td>UNKNOWN</td>\n",
              "    </tr>\n",
              "    <tr>\n",
              "        <td>8.0</td>\n",
              "        <td>NE</td>\n",
              "    </tr>\n",
              "    <tr>\n",
              "        <td>8.0</td>\n",
              "        <td>NW</td>\n",
              "    </tr>\n",
              "</table>"
            ],
            "text/plain": [
              "[(285.0, 'W'),\n",
              " (280.0, 'N'),\n",
              " (274.0, 'S'),\n",
              " (272.0, 'E'),\n",
              " (21.0, 'SE'),\n",
              " (17.0, 'SW'),\n",
              " (10.0, 'UNKNOWN'),\n",
              " (8.0, 'NE'),\n",
              " (8.0, 'NW')]"
            ]
          },
          "metadata": {
            "tags": []
          },
          "execution_count": 52
        }
      ]
    },
    {
      "cell_type": "markdown",
      "metadata": {
        "id": "oxQ6mdlvqbYC",
        "colab_type": "text"
      },
      "source": [
        "## Top 5 vehicle models involved in accident with no defect"
      ]
    },
    {
      "cell_type": "code",
      "metadata": {
        "id": "fFwfZ4sczoDw",
        "colab_type": "code",
        "colab": {
          "base_uri": "https://localhost:8080/",
          "height": 160
        },
        "outputId": "3defafc8-558c-48fc-dabd-b66f3e551f9e"
      },
      "source": [
        "%%sql\n",
        "SELECT count(vehicle_type),maneuver,vehicle_type,make\n",
        "FROM accidents\n",
        "WHERE vehicle_defect='NONE'\n",
        "GROUP BY vehicle_type\n",
        "ORDER BY make\n",
        "LIMIT 5;\n"
      ],
      "execution_count": null,
      "outputs": [
        {
          "output_type": "stream",
          "text": [
            " * sqlite://\n",
            "Done.\n"
          ],
          "name": "stdout"
        },
        {
          "output_type": "execute_result",
          "data": {
            "text/html": [
              "<table>\n",
              "    <tr>\n",
              "        <th>count(vehicle_type)</th>\n",
              "        <th>maneuver</th>\n",
              "        <th>vehicle_type</th>\n",
              "        <th>make</th>\n",
              "    </tr>\n",
              "    <tr>\n",
              "        <td>85</td>\n",
              "        <td>STRAIGHT AHEAD</td>\n",
              "        <td>TRUCK - SINGLE UNIT</td>\n",
              "        <td>AUTOCAR</td>\n",
              "    </tr>\n",
              "    <tr>\n",
              "        <td>60</td>\n",
              "        <td>STRAIGHT AHEAD</td>\n",
              "        <td>BUS OVER 15 PASS.</td>\n",
              "        <td>BLUE BIRD BODY CO.</td>\n",
              "    </tr>\n",
              "    <tr>\n",
              "        <td>72</td>\n",
              "        <td>SLOW/STOP IN TRAFFIC</td>\n",
              "        <td>PICKUP</td>\n",
              "        <td>CHEVROLET</td>\n",
              "    </tr>\n",
              "    <tr>\n",
              "        <td>11</td>\n",
              "        <td>PARKED IN TRAFFIC LANE</td>\n",
              "        <td>BUS UP TO 15 PASS.</td>\n",
              "        <td>FORD</td>\n",
              "    </tr>\n",
              "    <tr>\n",
              "        <td>15</td>\n",
              "        <td>TURNING LEFT</td>\n",
              "        <td>UNKNOWN/NA</td>\n",
              "        <td>FORD</td>\n",
              "    </tr>\n",
              "</table>"
            ],
            "text/plain": [
              "[(85, 'STRAIGHT AHEAD', 'TRUCK - SINGLE UNIT', 'AUTOCAR'),\n",
              " (60, 'STRAIGHT AHEAD', 'BUS OVER 15 PASS.', 'BLUE BIRD BODY CO.'),\n",
              " (72, 'SLOW/STOP IN TRAFFIC', 'PICKUP', 'CHEVROLET'),\n",
              " (11, 'PARKED IN TRAFFIC LANE', 'BUS UP TO 15 PASS.', 'FORD'),\n",
              " (15, 'TURNING LEFT', 'UNKNOWN/NA', 'FORD')]"
            ]
          },
          "metadata": {
            "tags": []
          },
          "execution_count": 54
        }
      ]
    },
    {
      "cell_type": "markdown",
      "metadata": {
        "id": "tc3kN89hqktg",
        "colab_type": "text"
      },
      "source": [
        "## Ride-sharing vehicles in an accident with most number of passengers\n"
      ]
    },
    {
      "cell_type": "code",
      "metadata": {
        "id": "i-6fRl8u0ODT",
        "colab_type": "code",
        "colab": {
          "base_uri": "https://localhost:8080/",
          "height": 160
        },
        "outputId": "d8d1b07a-d276-4420-cafd-a1ba0f1383f9"
      },
      "source": [
        "%%sql\n",
        "SELECT model,num_passengers\n",
        "FROM accidents\n",
        "WHERE vehicle_use='RIDESHARE SERVICE'\n",
        "ORDER BY num_passengers DESC\n",
        "LIMIT 5;"
      ],
      "execution_count": null,
      "outputs": [
        {
          "output_type": "stream",
          "text": [
            " * sqlite://\n",
            "Done.\n"
          ],
          "name": "stdout"
        },
        {
          "output_type": "execute_result",
          "data": {
            "text/html": [
              "<table>\n",
              "    <tr>\n",
              "        <th>model</th>\n",
              "        <th>num_passengers</th>\n",
              "    </tr>\n",
              "    <tr>\n",
              "        <td>MKZ</td>\n",
              "        <td>4.0</td>\n",
              "    </tr>\n",
              "    <tr>\n",
              "        <td>MALIBU (CHEVELLE)</td>\n",
              "        <td>3.0</td>\n",
              "    </tr>\n",
              "    <tr>\n",
              "        <td>Prius</td>\n",
              "        <td>3.0</td>\n",
              "    </tr>\n",
              "    <tr>\n",
              "        <td>COROLLA</td>\n",
              "        <td>3.0</td>\n",
              "    </tr>\n",
              "    <tr>\n",
              "        <td>RX350</td>\n",
              "        <td>2.0</td>\n",
              "    </tr>\n",
              "</table>"
            ],
            "text/plain": [
              "[('MKZ', 4.0),\n",
              " ('MALIBU (CHEVELLE)', 3.0),\n",
              " ('Prius', 3.0),\n",
              " ('COROLLA', 3.0),\n",
              " ('RX350', 2.0)]"
            ]
          },
          "metadata": {
            "tags": []
          },
          "execution_count": 16
        }
      ]
    },
    {
      "cell_type": "markdown",
      "metadata": {
        "id": "uDMyuyyal9iK",
        "colab_type": "text"
      },
      "source": [
        "### RECOMMENDATIONS\n",
        "\n",
        "\n",
        "*  Traffic signs should be kept in place for people travelling in the Northern direction.\n",
        "*   Give cautionary recommendations to personal vehicles users as they have the highest number of accidents compared to SUV.\n",
        "\n",
        "*   Advice people on the best vehicle models(eg ford and chevrolet) as they are not majorly affected.\n",
        "\n",
        "\n",
        "\n",
        "\n",
        "\n",
        "\n"
      ]
    }
  ]
}